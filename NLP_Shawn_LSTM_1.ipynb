{
  "cells": [
    {
      "cell_type": "code",
      "execution_count": 1,
      "metadata": {
        "colab": {
          "base_uri": "https://localhost:8080/"
        },
        "id": "MEpxsUn9mV-j",
        "outputId": "b8ed38a8-906f-480e-abc6-513f110b62c5"
      },
      "outputs": [
        {
          "output_type": "stream",
          "name": "stdout",
          "text": [
            "Mounted at /content/drive\n"
          ]
        }
      ],
      "source": [
        "from google.colab import drive\n",
        "drive.mount('/content/drive')"
      ]
    },
    {
      "cell_type": "code",
      "execution_count": 2,
      "metadata": {
        "colab": {
          "base_uri": "https://localhost:8080/"
        },
        "id": "B9WUajsymV8G",
        "outputId": "4ade2007-2a6c-423f-cab1-c7d1608b773a"
      },
      "outputs": [
        {
          "output_type": "stream",
          "name": "stdout",
          "text": [
            "/content/drive/MyDrive/NLP\n"
          ]
        }
      ],
      "source": [
        "cd /content/drive/MyDrive/NLP"
      ]
    },
    {
      "cell_type": "code",
      "execution_count": 3,
      "metadata": {
        "colab": {
          "base_uri": "https://localhost:8080/"
        },
        "id": "8YKFvvYLmt4n",
        "outputId": "44629960-bc16-4c5f-81ad-c01526650e94"
      },
      "outputs": [
        {
          "output_type": "stream",
          "name": "stdout",
          "text": [
            " dataset.csv                      NLP_Shawn_LSTM.ipynb\n",
            " emotion_data_start_point.ipynb   Sarcasm_Headlines_Dataset.json\n",
            " FinalDatasetwithpeprosing.csv    Sarcasm_Headlines_Dataset_v2.json\n",
            " newTXT.zip                      'textCNNs (1).ipynb'\n",
            " NLP_LSTM_1.ipynb\n"
          ]
        }
      ],
      "source": [
        "ls"
      ]
    },
    {
      "cell_type": "code",
      "execution_count": 4,
      "metadata": {
        "id": "Z2tCZtcQm0hA"
      },
      "outputs": [],
      "source": [
        "import pandas as pd\n",
        "import seaborn as sns\n",
        "import matplotlib.pyplot as plt"
      ]
    },
    {
      "cell_type": "code",
      "execution_count": 5,
      "metadata": {
        "id": "P4ED34wemx05"
      },
      "outputs": [],
      "source": [
        "# load data from csv \n",
        "df = pd.read_csv('FinalDatasetwithpeprosing.csv')"
      ]
    },
    {
      "cell_type": "code",
      "execution_count": 6,
      "metadata": {
        "id": "HJCJqfqS1J6r"
      },
      "outputs": [],
      "source": [
        "df.content=df.content.astype(str)"
      ]
    },
    {
      "cell_type": "code",
      "execution_count": 7,
      "metadata": {
        "id": "GmX78WMomVIb"
      },
      "outputs": [],
      "source": [
        "\n",
        "\n",
        "# Convert sentiment to numeric with label encoder\n",
        "\n",
        "from sklearn.preprocessing import LabelEncoder\n",
        "le = LabelEncoder()\n",
        "df['sentiment'] = le.fit_transform(df['sentiment'])\n",
        "\n",
        "from sklearn.model_selection import train_test_split\n",
        "\n",
        "# Split the data into train, test and validation sets with split ratio 70:15:15\n",
        "train_text, temp_text, train_labels, temp_labels = train_test_split(df['content'], df['sentiment'],\n",
        "                                                                    random_state=42,  \n",
        "                                                                    test_size=0.3,\n",
        "                                                                    stratify=df['sentiment'])\n",
        "\n",
        "val_text, test_text, val_labels, test_labels = train_test_split(temp_text, temp_labels,\n",
        "                                                                random_state=42,\n",
        "                                                                test_size=0.5,\n",
        "                                                                stratify=temp_labels)\n",
        "\n",
        "# Convert pandas Series to numpy arrays\n",
        "train_text, train_labels = train_text.values, train_labels.values\n",
        "val_text, val_labels = val_text.values, val_labels.values\n",
        "test_text, test_labels = test_text.values, test_labels.values"
      ]
    },
    {
      "cell_type": "code",
      "execution_count": 8,
      "metadata": {
        "colab": {
          "base_uri": "https://localhost:8080/",
          "height": 36
        },
        "id": "UQ2vgVt2nBFW",
        "outputId": "56f23b70-8541-4cb7-fead-8e19f1f03458"
      },
      "outputs": [
        {
          "output_type": "execute_result",
          "data": {
            "text/plain": [
              "\"Everyone's allergic to Poison Ivy; i know it guys, me too. L, you can't change, and me neither, so...i guess it's enough\""
            ],
            "application/vnd.google.colaboratory.intrinsic+json": {
              "type": "string"
            }
          },
          "metadata": {},
          "execution_count": 8
        }
      ],
      "source": [
        "train_text[0]"
      ]
    },
    {
      "cell_type": "code",
      "execution_count": 9,
      "metadata": {
        "colab": {
          "base_uri": "https://localhost:8080/"
        },
        "id": "Y5bDWxIDnCPH",
        "outputId": "0d6ced25-1da5-4e4a-f4da-1c22ee67a01c"
      },
      "outputs": [
        {
          "output_type": "execute_result",
          "data": {
            "text/plain": [
              "5"
            ]
          },
          "metadata": {},
          "execution_count": 9
        }
      ],
      "source": [
        "train_labels[0]"
      ]
    },
    {
      "cell_type": "code",
      "execution_count": 10,
      "metadata": {
        "colab": {
          "base_uri": "https://localhost:8080/"
        },
        "id": "ZaUpjqk6nEXo",
        "outputId": "ed57b693-1ed9-45a8-be05-67ab4e779601"
      },
      "outputs": [
        {
          "output_type": "stream",
          "name": "stdout",
          "text": [
            "(10716,) (10716,)\n",
            "(2296,) (2296,)\n",
            "(2297,) (2297,)\n"
          ]
        }
      ],
      "source": [
        "print(train_text.shape,train_labels.shape),\n",
        "print(val_text.shape,val_labels.shape),\n",
        "print(test_text.shape,test_labels.shape)"
      ]
    },
    {
      "cell_type": "code",
      "execution_count": 11,
      "metadata": {
        "colab": {
          "base_uri": "https://localhost:8080/"
        },
        "id": "JNTRNmfozL-C",
        "outputId": "edae3089-50e7-45e0-95dd-4d7f7229318e"
      },
      "outputs": [
        {
          "output_type": "stream",
          "name": "stdout",
          "text": [
            "Looking in indexes: https://pypi.org/simple, https://us-python.pkg.dev/colab-wheels/public/simple/\n",
            "Collecting nlp\n",
            "  Downloading nlp-0.4.0-py3-none-any.whl (1.7 MB)\n",
            "\u001b[2K     \u001b[90m━━━━━━━━━━━━━━━━━━━━━━━━━━━━━━━━━━━━━━━━\u001b[0m \u001b[32m1.7/1.7 MB\u001b[0m \u001b[31m67.7 MB/s\u001b[0m eta \u001b[36m0:00:00\u001b[0m\n",
            "\u001b[?25hRequirement already satisfied: numpy in /usr/local/lib/python3.10/dist-packages (from nlp) (1.22.4)\n",
            "Requirement already satisfied: pyarrow>=0.16.0 in /usr/local/lib/python3.10/dist-packages (from nlp) (9.0.0)\n",
            "Collecting dill (from nlp)\n",
            "  Downloading dill-0.3.6-py3-none-any.whl (110 kB)\n",
            "\u001b[2K     \u001b[90m━━━━━━━━━━━━━━━━━━━━━━━━━━━━━━━━━━━━━━\u001b[0m \u001b[32m110.5/110.5 kB\u001b[0m \u001b[31m16.3 MB/s\u001b[0m eta \u001b[36m0:00:00\u001b[0m\n",
            "\u001b[?25hRequirement already satisfied: pandas in /usr/local/lib/python3.10/dist-packages (from nlp) (1.5.3)\n",
            "Requirement already satisfied: requests>=2.19.0 in /usr/local/lib/python3.10/dist-packages (from nlp) (2.27.1)\n",
            "Requirement already satisfied: tqdm>=4.27 in /usr/local/lib/python3.10/dist-packages (from nlp) (4.65.0)\n",
            "Requirement already satisfied: filelock in /usr/local/lib/python3.10/dist-packages (from nlp) (3.12.0)\n",
            "Collecting xxhash (from nlp)\n",
            "  Downloading xxhash-3.2.0-cp310-cp310-manylinux_2_17_x86_64.manylinux2014_x86_64.whl (212 kB)\n",
            "\u001b[2K     \u001b[90m━━━━━━━━━━━━━━━━━━━━━━━━━━━━━━━━━━━━━━\u001b[0m \u001b[32m212.5/212.5 kB\u001b[0m \u001b[31m23.0 MB/s\u001b[0m eta \u001b[36m0:00:00\u001b[0m\n",
            "\u001b[?25hRequirement already satisfied: urllib3<1.27,>=1.21.1 in /usr/local/lib/python3.10/dist-packages (from requests>=2.19.0->nlp) (1.26.15)\n",
            "Requirement already satisfied: certifi>=2017.4.17 in /usr/local/lib/python3.10/dist-packages (from requests>=2.19.0->nlp) (2022.12.7)\n",
            "Requirement already satisfied: charset-normalizer~=2.0.0 in /usr/local/lib/python3.10/dist-packages (from requests>=2.19.0->nlp) (2.0.12)\n",
            "Requirement already satisfied: idna<4,>=2.5 in /usr/local/lib/python3.10/dist-packages (from requests>=2.19.0->nlp) (3.4)\n",
            "Requirement already satisfied: python-dateutil>=2.8.1 in /usr/local/lib/python3.10/dist-packages (from pandas->nlp) (2.8.2)\n",
            "Requirement already satisfied: pytz>=2020.1 in /usr/local/lib/python3.10/dist-packages (from pandas->nlp) (2022.7.1)\n",
            "Requirement already satisfied: six>=1.5 in /usr/local/lib/python3.10/dist-packages (from python-dateutil>=2.8.1->pandas->nlp) (1.16.0)\n",
            "Installing collected packages: xxhash, dill, nlp\n",
            "Successfully installed dill-0.3.6 nlp-0.4.0 xxhash-3.2.0\n"
          ]
        }
      ],
      "source": [
        "!pip install nlp"
      ]
    },
    {
      "cell_type": "code",
      "execution_count": 12,
      "metadata": {
        "id": "m6xwIU5LzOnf"
      },
      "outputs": [],
      "source": [
        "%matplotlib inline\n",
        "\n",
        "import tensorflow as tf\n",
        "import numpy as np\n",
        "import matplotlib.pyplot as plt\n",
        "import nlp\n",
        "import random\n",
        "from tensorflow.keras.preprocessing.text import Tokenizer"
      ]
    },
    {
      "cell_type": "code",
      "execution_count": 13,
      "metadata": {
        "id": "Vkiyzi5xzThG"
      },
      "outputs": [],
      "source": [
        "def show_history(h):\n",
        "  epochs_trained = len(h.history['loss'])\n",
        "  plt.figure(figsize=(16,6))\n",
        "\n",
        "  plt.subplot(1,2,1)\n",
        "  plt.plot(range(0, epochs_trained), h.history.get('accuracy'), label='Training')\n",
        "  plt.plot(range(0, epochs_trained), h.history.get('val_accuracy'), label='Validation')\n",
        "  plt.ylim([0.,1.])\n",
        "  plt.xlabel('Epochs')\n",
        "  plt.ylabel('Accuracy')\n",
        "  plt.legend()\n",
        "\n",
        "  plt.subplot(1,2,2)\n",
        "  plt.plot(range(0, epochs_trained), h.history.get('loss'), label='Training')\n",
        "  plt.plot(range(0, epochs_trained), h.history.get('val_loss'), label='Validation')\n",
        "  \n",
        "  plt.xlabel('Epochs')\n",
        "  plt.ylabel('Loss')\n",
        "  plt.legend()\n",
        "  \n",
        "  plt.show()"
      ]
    },
    {
      "cell_type": "code",
      "source": [
        "import matplotlib.pyplot as plt\n",
        "import seaborn as sns\n",
        "from sklearn.metrics import confusion_matrix\n"
      ],
      "metadata": {
        "id": "UncdCGkadb6t"
      },
      "execution_count": 14,
      "outputs": []
    },
    {
      "cell_type": "code",
      "execution_count": 15,
      "metadata": {
        "id": "uY_O4bmrzsiM"
      },
      "outputs": [],
      "source": [
        "def show_confusion_matrix(y_true,y_pred,classes):\n",
        "  from sklearn.metrics import confusion_matrix\n",
        "\n",
        "  cm = confusion_matrix(y_true,y_pred)\n",
        "  \n",
        "  # set the figure size\n",
        "  plt.figure(figsize=(10, 8))\n",
        "\n",
        "# plot the confusion matrix\n",
        "  sns.heatmap(cm, annot=True, cmap='Blues', xticklabels=classes, yticklabels=classes, fmt='g')\n",
        "  plt.xlabel('Predicted Labels')\n",
        "  plt.ylabel('True Labels')\n",
        "  plt.title('Confusion Matrix')\n",
        "  plt.show()\n",
        "\n",
        "  \n",
        "  #sns.heatmap(cm, annot=True, cmap='Blues', xticklabels=emotions, yticklabels=emotions, fmt='g')\n",
        "  #plt.figure(figsize=(8,8))\n",
        "  #sp= plt.subplot(1,1,1)\n",
        "  #clx = sp.matshow(cm)\n",
        "  #plt.xticks(list(range(0,7)), labels=classes)\n",
        "  #plt.yticks(list(range(0,7)), labels=classes)\n",
        "  #plt.colorbar(clx)\n",
        "  #plt.show"
      ]
    },
    {
      "cell_type": "code",
      "execution_count": 16,
      "metadata": {
        "colab": {
          "base_uri": "https://localhost:8080/"
        },
        "id": "pOYdMMBWzulC",
        "outputId": "f12c043c-b1f7-4876-c9ad-9daca33b1219"
      },
      "outputs": [
        {
          "output_type": "stream",
          "name": "stdout",
          "text": [
            "Using Tensorflow version 2.12.0\n"
          ]
        }
      ],
      "source": [
        "print('Using Tensorflow version',tf.__version__)"
      ]
    },
    {
      "cell_type": "code",
      "execution_count": 17,
      "metadata": {
        "id": "MH0SSvvez0Xx"
      },
      "outputs": [],
      "source": [
        "classes=[\n",
        "  'anger', 'happiness', 'love', 'neutral', 'sadness', 'surprise', 'worry'\n",
        "]"
      ]
    },
    {
      "cell_type": "code",
      "execution_count": 18,
      "metadata": {
        "id": "UZBJ16ZU0OJO"
      },
      "outputs": [],
      "source": [
        "from tensorflow.keras.preprocessing.text import Tokenizer"
      ]
    },
    {
      "cell_type": "code",
      "execution_count": 19,
      "metadata": {
        "id": "8RhE9ZuO0OUW"
      },
      "outputs": [],
      "source": [
        "tokenizer = Tokenizer(num_words=1000 , oov_token='<UNK>')\n"
      ]
    },
    {
      "cell_type": "code",
      "execution_count": 20,
      "metadata": {
        "id": "Tdk35cPG0a1I"
      },
      "outputs": [],
      "source": [
        "train_text=np.array(train_text)"
      ]
    },
    {
      "cell_type": "code",
      "execution_count": 21,
      "metadata": {
        "id": "8__XQtVX0UPJ"
      },
      "outputs": [],
      "source": [
        "tokenizer.fit_on_texts(train_text)"
      ]
    },
    {
      "cell_type": "code",
      "execution_count": 22,
      "metadata": {
        "colab": {
          "base_uri": "https://localhost:8080/"
        },
        "id": "C-c6VrWr1Ynv",
        "outputId": "4bd8e5e3-5f28-407c-83a9-b74284d76a04"
      },
      "outputs": [
        {
          "output_type": "execute_result",
          "data": {
            "text/plain": [
              "(10716,)"
            ]
          },
          "metadata": {},
          "execution_count": 22
        }
      ],
      "source": [
        "train_text.shape"
      ]
    },
    {
      "cell_type": "code",
      "execution_count": 23,
      "metadata": {
        "colab": {
          "base_uri": "https://localhost:8080/"
        },
        "id": "8h-a-6kG0kby",
        "outputId": "ce8e7f17-66a7-4454-ea53-44d687690777"
      },
      "outputs": [
        {
          "output_type": "execute_result",
          "data": {
            "text/plain": [
              "[[16, 49, 150, 26, 4, 364, 44, 44, 9, 21, 5, 1, 28]]"
            ]
          },
          "metadata": {},
          "execution_count": 23
        }
      ],
      "source": [
        "tokenizer.texts_to_sequences([train_text[10]])"
      ]
    },
    {
      "cell_type": "code",
      "execution_count": 24,
      "metadata": {
        "colab": {
          "base_uri": "https://localhost:8080/",
          "height": 36
        },
        "id": "5aJ2vyoB1kHq",
        "outputId": "4e734623-3844-4948-86a6-866642609060"
      },
      "outputs": [
        {
          "output_type": "execute_result",
          "data": {
            "text/plain": [
              "\"I'm really mad at the world today. Today is just a sucky day.\""
            ],
            "application/vnd.google.colaboratory.intrinsic+json": {
              "type": "string"
            }
          },
          "metadata": {},
          "execution_count": 24
        }
      ],
      "source": [
        "train_text[10]"
      ]
    },
    {
      "cell_type": "code",
      "execution_count": 25,
      "metadata": {
        "colab": {
          "base_uri": "https://localhost:8080/"
        },
        "id": "Zr6kx5WB1nKg",
        "outputId": "5db76a1d-f1e9-47f5-a947-94a4ec524658"
      },
      "outputs": [
        {
          "output_type": "execute_result",
          "data": {
            "text/plain": [
              "0"
            ]
          },
          "metadata": {},
          "execution_count": 25
        }
      ],
      "source": [
        "train_labels[10]"
      ]
    },
    {
      "cell_type": "code",
      "execution_count": 26,
      "metadata": {
        "colab": {
          "base_uri": "https://localhost:8080/",
          "height": 36
        },
        "id": "S-xjguW91sx3",
        "outputId": "e4cf8155-6899-420c-a3f0-69daae9f8754"
      },
      "outputs": [
        {
          "output_type": "execute_result",
          "data": {
            "text/plain": [
              "'anger'"
            ],
            "application/vnd.google.colaboratory.intrinsic+json": {
              "type": "string"
            }
          },
          "metadata": {},
          "execution_count": 26
        }
      ],
      "source": [
        "classes[train_labels[10]]"
      ]
    },
    {
      "cell_type": "code",
      "execution_count": 27,
      "metadata": {
        "colab": {
          "base_uri": "https://localhost:8080/",
          "height": 430
        },
        "id": "bvpcyrgL1vsv",
        "outputId": "4fbb7c66-f609-4605-d97a-45c1583da9ca"
      },
      "outputs": [
        {
          "output_type": "display_data",
          "data": {
            "text/plain": [
              "<Figure size 640x480 with 1 Axes>"
            ],
            "image/png": "[encoded data removed]"
          },
          "metadata": {}
        }
      ],
      "source": [
        "lengths=[len(t.split(' ')) for t in train_text]\n",
        "plt.hist(lengths,bins=len(set(lengths)))\n",
        "plt.xlim(left=0, right=40)\n",
        "plt.show()"
      ]
    },
    {
      "cell_type": "code",
      "execution_count": 28,
      "metadata": {
        "id": "fONBozzgzfLX"
      },
      "outputs": [],
      "source": [
        "maxlen = 50\n",
        "\n",
        "from tensorflow.keras.preprocessing.sequence import pad_sequences"
      ]
    },
    {
      "cell_type": "code",
      "execution_count": 29,
      "metadata": {
        "id": "7Xh2Q7_81OfW"
      },
      "outputs": [],
      "source": [
        "def get_sequences(tokenizer,dia):\n",
        "  sequences=tokenizer.texts_to_sequences(dia)\n",
        "  padded=pad_sequences(sequences, truncating='post',padding='post',maxlen=maxlen)\n",
        "  return padded"
      ]
    },
    {
      "cell_type": "code",
      "execution_count": 30,
      "metadata": {
        "id": "ssY9zzgb1XyA"
      },
      "outputs": [],
      "source": [
        "padded_train_seq=get_sequences(tokenizer,train_text)"
      ]
    },
    {
      "cell_type": "code",
      "execution_count": 31,
      "metadata": {
        "colab": {
          "base_uri": "https://localhost:8080/"
        },
        "id": "jXZqFCEx_8Kq",
        "outputId": "ff15c6ec-49cb-4861-c76e-0d4ec34887b8"
      },
      "outputs": [
        {
          "output_type": "execute_result",
          "data": {
            "text/plain": [
              "(10716, 50)"
            ]
          },
          "metadata": {},
          "execution_count": 31
        }
      ],
      "source": [
        "padded_train_seq.shape"
      ]
    },
    {
      "cell_type": "code",
      "execution_count": 32,
      "metadata": {
        "colab": {
          "base_uri": "https://localhost:8080/"
        },
        "id": "IMeiHWlt1X79",
        "outputId": "894705f5-ad2f-40bd-c1a1-2b0e6740682c"
      },
      "outputs": [
        {
          "output_type": "execute_result",
          "data": {
            "text/plain": [
              "array([ 16,  49, 150,  26,   4, 364,  44,  44,   9,  21,   5,   1,  28,\n",
              "         0,   0,   0,   0,   0,   0,   0,   0,   0,   0,   0,   0,   0,\n",
              "         0,   0,   0,   0,   0,   0,   0,   0,   0,   0,   0,   0,   0,\n",
              "         0,   0,   0,   0,   0,   0,   0,   0,   0,   0,   0], dtype=int32)"
            ]
          },
          "metadata": {},
          "execution_count": 32
        }
      ],
      "source": [
        "padded_train_seq[10]"
      ]
    },
    {
      "cell_type": "code",
      "execution_count": 33,
      "metadata": {
        "colab": {
          "base_uri": "https://localhost:8080/"
        },
        "id": "wx2TF00D2zRs",
        "outputId": "bfe204d0-e974-45ca-f273-bc5f51a8fa28"
      },
      "outputs": [
        {
          "output_type": "execute_result",
          "data": {
            "text/plain": [
              "[[16, 49, 150, 26, 4, 364, 44, 44, 9, 21, 5, 1, 28]]"
            ]
          },
          "metadata": {},
          "execution_count": 33
        }
      ],
      "source": [
        "tokenizer.texts_to_sequences([train_text[10]])"
      ]
    },
    {
      "cell_type": "code",
      "execution_count": 34,
      "metadata": {
        "colab": {
          "base_uri": "https://localhost:8080/",
          "height": 507
        },
        "id": "9XJqa8Fc22bE",
        "outputId": "fa60857f-5ed2-46e8-a82b-96a91d26f069"
      },
      "outputs": [
        {
          "output_type": "execute_result",
          "data": {
            "text/plain": [
              "(array([1531., 1531., 1531., 1531., 1531., 1531., 1530.]),\n",
              " array([0.        , 0.85714286, 1.71428571, 2.57142857, 3.42857143,\n",
              "        4.28571429, 5.14285714, 6.        ]),\n",
              " <BarContainer object of 7 artists>)"
            ]
          },
          "metadata": {},
          "execution_count": 34
        },
        {
          "output_type": "display_data",
          "data": {
            "text/plain": [
              "<Figure size 640x480 with 1 Axes>"
            ],
            "image/png": "[encoded data removed]"
          },
          "metadata": {}
        }
      ],
      "source": [
        "plt.ylim(top=2000)\n",
        "plt.hist(train_labels,bins=7)\n"
      ]
    },
    {
      "cell_type": "code",
      "execution_count": 35,
      "metadata": {
        "id": "ZTptoa0K14Yh"
      },
      "outputs": [],
      "source": [
        "class_to_index = {\n",
        "  \n",
        "  'anger':0, 'happiness':1, 'love':2, 'neutral':3, 'sadness':4, 'surprise':5, 'worry':6\n",
        "}\n",
        "index_to_class = dict((v,k) for k,v in class_to_index.items())"
      ]
    },
    {
      "cell_type": "code",
      "execution_count": 36,
      "metadata": {
        "colab": {
          "base_uri": "https://localhost:8080/"
        },
        "id": "E3YFCRIj4yxl",
        "outputId": "55b6fad7-dbfb-492c-a4fe-7c42d2c09d99"
      },
      "outputs": [
        {
          "output_type": "execute_result",
          "data": {
            "text/plain": [
              "{'anger': 0,\n",
              " 'happiness': 1,\n",
              " 'love': 2,\n",
              " 'neutral': 3,\n",
              " 'sadness': 4,\n",
              " 'surprise': 5,\n",
              " 'worry': 6}"
            ]
          },
          "metadata": {},
          "execution_count": 36
        }
      ],
      "source": [
        "class_to_index"
      ]
    },
    {
      "cell_type": "code",
      "execution_count": 37,
      "metadata": {
        "colab": {
          "base_uri": "https://localhost:8080/"
        },
        "id": "w8L9CXrD8t6x",
        "outputId": "5f7d7996-01a2-4a9b-e2e9-c380191b0b50"
      },
      "outputs": [
        {
          "output_type": "execute_result",
          "data": {
            "text/plain": [
              "{0: 'anger',\n",
              " 1: 'happiness',\n",
              " 2: 'love',\n",
              " 3: 'neutral',\n",
              " 4: 'sadness',\n",
              " 5: 'surprise',\n",
              " 6: 'worry'}"
            ]
          },
          "metadata": {},
          "execution_count": 37
        }
      ],
      "source": [
        "index_to_class"
      ]
    },
    {
      "cell_type": "markdown",
      "metadata": {
        "id": "hM7q558v9Tkc"
      },
      "source": [
        "Modeling"
      ]
    },
    {
      "cell_type": "code",
      "execution_count": 38,
      "metadata": {
        "id": "lNwdrwrh85FP"
      },
      "outputs": [],
      "source": [
        "model = tf.keras.models.Sequential([\n",
        "    tf.keras.layers.Embedding(1000,16,input_length=maxlen),\n",
        "    tf.keras.layers.Bidirectional(tf.keras.layers.LSTM(40,return_sequences=True)),\n",
        "    tf.keras.layers.Dropout(0.5),\n",
        "    tf.keras.layers.Bidirectional(tf.keras.layers.LSTM(40,return_sequences=True)),\n",
        "    tf.keras.layers.Dropout(0.5),\n",
        "    tf.keras.layers.Bidirectional(tf.keras.layers.LSTM(20,return_sequences=False)),\n",
        "    tf.keras.layers.Dense(7, activation='softmax')\n",
        "\n",
        "])"
      ]
    },
    {
      "cell_type": "code",
      "execution_count": 39,
      "metadata": {
        "colab": {
          "base_uri": "https://localhost:8080/"
        },
        "id": "4T2-r8Ct3NEq",
        "outputId": "348d8366-ac71-4a8d-fda5-aab1c9145494"
      },
      "outputs": [
        {
          "output_type": "stream",
          "name": "stdout",
          "text": [
            "Model: \"sequential\"\n",
            "_________________________________________________________________\n",
            " Layer (type)                Output Shape              Param #   \n",
            "=================================================================\n",
            " embedding (Embedding)       (None, 50, 16)            16000     \n",
            "                                                                 \n",
            " bidirectional (Bidirectiona  (None, 50, 80)           18240     \n",
            " l)                                                              \n",
            "                                                                 \n",
            " dropout (Dropout)           (None, 50, 80)            0         \n",
            "                                                                 \n",
            " bidirectional_1 (Bidirectio  (None, 50, 80)           38720     \n",
            " nal)                                                            \n",
            "                                                                 \n",
            " dropout_1 (Dropout)         (None, 50, 80)            0         \n",
            "                                                                 \n",
            " bidirectional_2 (Bidirectio  (None, 40)               16160     \n",
            " nal)                                                            \n",
            "                                                                 \n",
            " dense (Dense)               (None, 7)                 287       \n",
            "                                                                 \n",
            "=================================================================\n",
            "Total params: 89,407\n",
            "Trainable params: 89,407\n",
            "Non-trainable params: 0\n",
            "_________________________________________________________________\n"
          ]
        }
      ],
      "source": [
        "model.summary()"
      ]
    },
    {
      "cell_type": "code",
      "execution_count": 40,
      "metadata": {
        "id": "QgeD0cFA9YIC"
      },
      "outputs": [],
      "source": [
        "model.compile(\n",
        "    loss='sparse_categorical_crossentropy',\n",
        "    optimizer='adam',\n",
        "    metrics=['accuracy']\n",
        ")"
      ]
    },
    {
      "cell_type": "code",
      "execution_count": 41,
      "metadata": {
        "id": "i0pUxIkj69QQ"
      },
      "outputs": [],
      "source": [
        "val_seq = get_sequences(tokenizer,val_text)"
      ]
    },
    {
      "cell_type": "code",
      "execution_count": 42,
      "metadata": {
        "colab": {
          "base_uri": "https://localhost:8080/"
        },
        "id": "bJlV9sUWAOOc",
        "outputId": "54b54b80-4cce-4622-dd9a-9a6c388aade8"
      },
      "outputs": [
        {
          "output_type": "execute_result",
          "data": {
            "text/plain": [
              "(2296, 50)"
            ]
          },
          "metadata": {},
          "execution_count": 42
        }
      ],
      "source": [
        "val_seq.shape"
      ]
    },
    {
      "cell_type": "code",
      "execution_count": 43,
      "metadata": {
        "id": "zESw17sbASrl"
      },
      "outputs": [],
      "source": [
        "test_seq = get_sequences(tokenizer,test_text)"
      ]
    },
    {
      "cell_type": "code",
      "execution_count": 44,
      "metadata": {
        "colab": {
          "base_uri": "https://localhost:8080/"
        },
        "id": "J26-IVM9AVyI",
        "outputId": "6bec63d1-1a8b-432d-f08b-423f4b29663a"
      },
      "outputs": [
        {
          "output_type": "execute_result",
          "data": {
            "text/plain": [
              "(2297, 50)"
            ]
          },
          "metadata": {},
          "execution_count": 44
        }
      ],
      "source": [
        "test_seq.shape"
      ]
    },
    {
      "cell_type": "code",
      "execution_count": 45,
      "metadata": {
        "colab": {
          "base_uri": "https://localhost:8080/"
        },
        "id": "yO64_AQk3TuI",
        "outputId": "927750da-c3b6-4a31-d458-dad363bf7584"
      },
      "outputs": [
        {
          "output_type": "stream",
          "name": "stdout",
          "text": [
            "Epoch 1/100\n",
            "335/335 [==============================] - 33s 57ms/step - loss: 1.8475 - accuracy: 0.2157 - val_loss: 1.7271 - val_accuracy: 0.2905\n",
            "Epoch 2/100\n",
            "335/335 [==============================] - 7s 21ms/step - loss: 1.6696 - accuracy: 0.3157 - val_loss: 1.7017 - val_accuracy: 0.3088\n",
            "Epoch 3/100\n",
            "335/335 [==============================] - 7s 20ms/step - loss: 1.6073 - accuracy: 0.3434 - val_loss: 1.6521 - val_accuracy: 0.3197\n",
            "Epoch 4/100\n",
            "335/335 [==============================] - 7s 20ms/step - loss: 1.5661 - accuracy: 0.3694 - val_loss: 1.6609 - val_accuracy: 0.3397\n",
            "Epoch 5/100\n",
            "335/335 [==============================] - 6s 19ms/step - loss: 1.5308 - accuracy: 0.3936 - val_loss: 1.6538 - val_accuracy: 0.3349\n",
            "Epoch 6/100\n",
            "335/335 [==============================] - 5s 16ms/step - loss: 1.5013 - accuracy: 0.4069 - val_loss: 1.6870 - val_accuracy: 0.3262\n",
            "Epoch 7/100\n",
            "335/335 [==============================] - 6s 17ms/step - loss: 1.4775 - accuracy: 0.4263 - val_loss: 1.6708 - val_accuracy: 0.3436\n",
            "Epoch 8/100\n",
            "335/335 [==============================] - 6s 17ms/step - loss: 1.4510 - accuracy: 0.4383 - val_loss: 1.6947 - val_accuracy: 0.3375\n",
            "Epoch 9/100\n",
            "335/335 [==============================] - 5s 16ms/step - loss: 1.4282 - accuracy: 0.4519 - val_loss: 1.7063 - val_accuracy: 0.3380\n",
            "Epoch 10/100\n",
            "335/335 [==============================] - 6s 18ms/step - loss: 1.4064 - accuracy: 0.4609 - val_loss: 1.7292 - val_accuracy: 0.3362\n",
            "Epoch 11/100\n",
            "335/335 [==============================] - 5s 16ms/step - loss: 1.3862 - accuracy: 0.4690 - val_loss: 1.7515 - val_accuracy: 0.3328\n",
            "Epoch 12/100\n",
            "335/335 [==============================] - 6s 17ms/step - loss: 1.3630 - accuracy: 0.4894 - val_loss: 1.7442 - val_accuracy: 0.3323\n",
            "Epoch 13/100\n",
            "335/335 [==============================] - 6s 17ms/step - loss: 1.3429 - accuracy: 0.4977 - val_loss: 1.8048 - val_accuracy: 0.3367\n",
            "Epoch 14/100\n",
            "335/335 [==============================] - 5s 16ms/step - loss: 1.3219 - accuracy: 0.5102 - val_loss: 1.8108 - val_accuracy: 0.3375\n",
            "Epoch 15/100\n",
            "335/335 [==============================] - 6s 18ms/step - loss: 1.3043 - accuracy: 0.5158 - val_loss: 1.8284 - val_accuracy: 0.3354\n",
            "Epoch 16/100\n",
            "335/335 [==============================] - 5s 16ms/step - loss: 1.2860 - accuracy: 0.5258 - val_loss: 1.8398 - val_accuracy: 0.3432\n",
            "Epoch 17/100\n",
            "335/335 [==============================] - 6s 17ms/step - loss: 1.2757 - accuracy: 0.5313 - val_loss: 1.8391 - val_accuracy: 0.3345\n",
            "Epoch 18/100\n",
            "335/335 [==============================] - 5s 16ms/step - loss: 1.2540 - accuracy: 0.5393 - val_loss: 1.8686 - val_accuracy: 0.3214\n",
            "Epoch 19/100\n",
            "335/335 [==============================] - 5s 16ms/step - loss: 1.2384 - accuracy: 0.5459 - val_loss: 1.9014 - val_accuracy: 0.3297\n",
            "Epoch 20/100\n",
            "335/335 [==============================] - 6s 17ms/step - loss: 1.2204 - accuracy: 0.5528 - val_loss: 1.9127 - val_accuracy: 0.3253\n",
            "Epoch 21/100\n",
            "335/335 [==============================] - 5s 16ms/step - loss: 1.2069 - accuracy: 0.5582 - val_loss: 1.9176 - val_accuracy: 0.3306\n",
            "Epoch 22/100\n",
            "335/335 [==============================] - 6s 17ms/step - loss: 1.1858 - accuracy: 0.5716 - val_loss: 1.9221 - val_accuracy: 0.3262\n",
            "Epoch 23/100\n",
            "335/335 [==============================] - 5s 16ms/step - loss: 1.1662 - accuracy: 0.5764 - val_loss: 1.9580 - val_accuracy: 0.3193\n",
            "Epoch 24/100\n",
            "335/335 [==============================] - 5s 15ms/step - loss: 1.1546 - accuracy: 0.5850 - val_loss: 2.0086 - val_accuracy: 0.3249\n",
            "Epoch 25/100\n",
            "335/335 [==============================] - 6s 18ms/step - loss: 1.1393 - accuracy: 0.5947 - val_loss: 1.9881 - val_accuracy: 0.3236\n",
            "Epoch 26/100\n",
            "335/335 [==============================] - 5s 16ms/step - loss: 1.1227 - accuracy: 0.6031 - val_loss: 2.0256 - val_accuracy: 0.3214\n",
            "Epoch 27/100\n",
            "335/335 [==============================] - 6s 17ms/step - loss: 1.1142 - accuracy: 0.6026 - val_loss: 2.0220 - val_accuracy: 0.3240\n",
            "Epoch 28/100\n",
            "335/335 [==============================] - 5s 16ms/step - loss: 1.0968 - accuracy: 0.6063 - val_loss: 2.0812 - val_accuracy: 0.3232\n",
            "Epoch 29/100\n",
            "335/335 [==============================] - 5s 16ms/step - loss: 1.0870 - accuracy: 0.6144 - val_loss: 2.0669 - val_accuracy: 0.3193\n",
            "Epoch 30/100\n",
            "335/335 [==============================] - 6s 18ms/step - loss: 1.0752 - accuracy: 0.6189 - val_loss: 2.0678 - val_accuracy: 0.3171\n",
            "Epoch 31/100\n",
            "335/335 [==============================] - 5s 16ms/step - loss: 1.0601 - accuracy: 0.6286 - val_loss: 2.0959 - val_accuracy: 0.3158\n",
            "Epoch 32/100\n",
            "335/335 [==============================] - 6s 17ms/step - loss: 1.0494 - accuracy: 0.6309 - val_loss: 2.1497 - val_accuracy: 0.3166\n",
            "Epoch 33/100\n",
            "335/335 [==============================] - 5s 16ms/step - loss: 1.0463 - accuracy: 0.6286 - val_loss: 2.1216 - val_accuracy: 0.3153\n",
            "Epoch 34/100\n",
            "335/335 [==============================] - 5s 16ms/step - loss: 1.0245 - accuracy: 0.6422 - val_loss: 2.1772 - val_accuracy: 0.3219\n",
            "Epoch 35/100\n",
            "335/335 [==============================] - 6s 17ms/step - loss: 1.0259 - accuracy: 0.6382 - val_loss: 2.1726 - val_accuracy: 0.3084\n",
            "Epoch 36/100\n",
            "335/335 [==============================] - 5s 15ms/step - loss: 1.0062 - accuracy: 0.6444 - val_loss: 2.1816 - val_accuracy: 0.3184\n",
            "Epoch 37/100\n",
            "335/335 [==============================] - 6s 17ms/step - loss: 0.9829 - accuracy: 0.6571 - val_loss: 2.2533 - val_accuracy: 0.3140\n",
            "Epoch 38/100\n",
            "335/335 [==============================] - 5s 16ms/step - loss: 0.9845 - accuracy: 0.6543 - val_loss: 2.2761 - val_accuracy: 0.3040\n",
            "Epoch 39/100\n",
            "335/335 [==============================] - 5s 16ms/step - loss: 0.9757 - accuracy: 0.6571 - val_loss: 2.2650 - val_accuracy: 0.3136\n",
            "Epoch 40/100\n",
            "335/335 [==============================] - 6s 17ms/step - loss: 0.9607 - accuracy: 0.6664 - val_loss: 2.2562 - val_accuracy: 0.3171\n",
            "Epoch 41/100\n",
            "335/335 [==============================] - 5s 15ms/step - loss: 0.9555 - accuracy: 0.6695 - val_loss: 2.3550 - val_accuracy: 0.3075\n",
            "Epoch 42/100\n",
            "335/335 [==============================] - 6s 17ms/step - loss: 0.9379 - accuracy: 0.6778 - val_loss: 2.3020 - val_accuracy: 0.3184\n",
            "Epoch 43/100\n",
            "335/335 [==============================] - 5s 16ms/step - loss: 0.9282 - accuracy: 0.6758 - val_loss: 2.3559 - val_accuracy: 0.3158\n",
            "Epoch 44/100\n",
            "335/335 [==============================] - 5s 16ms/step - loss: 0.9138 - accuracy: 0.6827 - val_loss: 2.3506 - val_accuracy: 0.3175\n",
            "Epoch 45/100\n",
            "335/335 [==============================] - 6s 18ms/step - loss: 0.9097 - accuracy: 0.6827 - val_loss: 2.3355 - val_accuracy: 0.3149\n",
            "Epoch 46/100\n",
            "335/335 [==============================] - 5s 16ms/step - loss: 0.9028 - accuracy: 0.6825 - val_loss: 2.4096 - val_accuracy: 0.3075\n",
            "Epoch 47/100\n",
            "335/335 [==============================] - 6s 17ms/step - loss: 0.9045 - accuracy: 0.6826 - val_loss: 2.4319 - val_accuracy: 0.3162\n",
            "Epoch 48/100\n",
            "335/335 [==============================] - 5s 16ms/step - loss: 0.8872 - accuracy: 0.6876 - val_loss: 2.3930 - val_accuracy: 0.3075\n",
            "Epoch 49/100\n",
            "335/335 [==============================] - 6s 17ms/step - loss: 0.8778 - accuracy: 0.6989 - val_loss: 2.4149 - val_accuracy: 0.3110\n",
            "Epoch 50/100\n",
            "335/335 [==============================] - 6s 17ms/step - loss: 0.8661 - accuracy: 0.6962 - val_loss: 2.4586 - val_accuracy: 0.3145\n",
            "Epoch 51/100\n",
            "335/335 [==============================] - 5s 16ms/step - loss: 0.8512 - accuracy: 0.7036 - val_loss: 2.4873 - val_accuracy: 0.3053\n",
            "Epoch 52/100\n",
            "335/335 [==============================] - 6s 18ms/step - loss: 0.8449 - accuracy: 0.7113 - val_loss: 2.4701 - val_accuracy: 0.3018\n",
            "Epoch 53/100\n",
            "335/335 [==============================] - 5s 16ms/step - loss: 0.8472 - accuracy: 0.7062 - val_loss: 2.3950 - val_accuracy: 0.3110\n",
            "Epoch 54/100\n",
            "335/335 [==============================] - 5s 16ms/step - loss: 0.8382 - accuracy: 0.7085 - val_loss: 2.5177 - val_accuracy: 0.3027\n",
            "Epoch 55/100\n",
            "335/335 [==============================] - 5s 16ms/step - loss: 0.8293 - accuracy: 0.7129 - val_loss: 2.5332 - val_accuracy: 0.3175\n",
            "Epoch 56/100\n",
            "335/335 [==============================] - 5s 16ms/step - loss: 0.8096 - accuracy: 0.7207 - val_loss: 2.5279 - val_accuracy: 0.3118\n",
            "Epoch 57/100\n",
            "335/335 [==============================] - 6s 17ms/step - loss: 0.7991 - accuracy: 0.7255 - val_loss: 2.5496 - val_accuracy: 0.3118\n",
            "Epoch 58/100\n",
            "335/335 [==============================] - 5s 16ms/step - loss: 0.8058 - accuracy: 0.7215 - val_loss: 2.5683 - val_accuracy: 0.3123\n",
            "Epoch 59/100\n",
            "335/335 [==============================] - 6s 17ms/step - loss: 0.7959 - accuracy: 0.7258 - val_loss: 2.5770 - val_accuracy: 0.3001\n",
            "Epoch 60/100\n",
            "335/335 [==============================] - 5s 16ms/step - loss: 0.7847 - accuracy: 0.7286 - val_loss: 2.6083 - val_accuracy: 0.3084\n",
            "Epoch 61/100\n",
            "335/335 [==============================] - 5s 16ms/step - loss: 0.7776 - accuracy: 0.7331 - val_loss: 2.6107 - val_accuracy: 0.3044\n",
            "Epoch 62/100\n",
            "335/335 [==============================] - 6s 17ms/step - loss: 0.7804 - accuracy: 0.7285 - val_loss: 2.6374 - val_accuracy: 0.3066\n",
            "Epoch 63/100\n",
            "335/335 [==============================] - 5s 16ms/step - loss: 0.7742 - accuracy: 0.7333 - val_loss: 2.6303 - val_accuracy: 0.3062\n",
            "Epoch 64/100\n",
            "335/335 [==============================] - 6s 17ms/step - loss: 0.7748 - accuracy: 0.7347 - val_loss: 2.6723 - val_accuracy: 0.3040\n",
            "Epoch 65/100\n",
            "335/335 [==============================] - 6s 16ms/step - loss: 0.7512 - accuracy: 0.7399 - val_loss: 2.6497 - val_accuracy: 0.2979\n",
            "Epoch 66/100\n",
            "335/335 [==============================] - 5s 16ms/step - loss: 0.7339 - accuracy: 0.7473 - val_loss: 2.6855 - val_accuracy: 0.3014\n",
            "Epoch 67/100\n",
            "335/335 [==============================] - 6s 17ms/step - loss: 0.7414 - accuracy: 0.7443 - val_loss: 2.6771 - val_accuracy: 0.3053\n",
            "Epoch 68/100\n",
            "335/335 [==============================] - 5s 16ms/step - loss: 0.7257 - accuracy: 0.7509 - val_loss: 2.7418 - val_accuracy: 0.3084\n",
            "Epoch 69/100\n",
            "335/335 [==============================] - 6s 17ms/step - loss: 0.7291 - accuracy: 0.7484 - val_loss: 2.7319 - val_accuracy: 0.3145\n",
            "Epoch 70/100\n",
            "335/335 [==============================] - 5s 16ms/step - loss: 0.7252 - accuracy: 0.7503 - val_loss: 2.7189 - val_accuracy: 0.3079\n",
            "Epoch 71/100\n",
            "335/335 [==============================] - 5s 16ms/step - loss: 0.7192 - accuracy: 0.7493 - val_loss: 2.7439 - val_accuracy: 0.2988\n",
            "Epoch 72/100\n",
            "335/335 [==============================] - 6s 17ms/step - loss: 0.7023 - accuracy: 0.7594 - val_loss: 2.7846 - val_accuracy: 0.3066\n",
            "Epoch 73/100\n",
            "335/335 [==============================] - 5s 16ms/step - loss: 0.7045 - accuracy: 0.7589 - val_loss: 2.7659 - val_accuracy: 0.3084\n",
            "Epoch 74/100\n",
            "335/335 [==============================] - 6s 17ms/step - loss: 0.6935 - accuracy: 0.7606 - val_loss: 2.8016 - val_accuracy: 0.2970\n",
            "Epoch 75/100\n",
            "335/335 [==============================] - 5s 16ms/step - loss: 0.6912 - accuracy: 0.7624 - val_loss: 2.8434 - val_accuracy: 0.3049\n",
            "Epoch 76/100\n",
            "335/335 [==============================] - 5s 16ms/step - loss: 0.6951 - accuracy: 0.7634 - val_loss: 2.8628 - val_accuracy: 0.3040\n",
            "Epoch 77/100\n",
            "335/335 [==============================] - 6s 18ms/step - loss: 0.6818 - accuracy: 0.7622 - val_loss: 2.8545 - val_accuracy: 0.3105\n",
            "Epoch 78/100\n",
            "335/335 [==============================] - 5s 16ms/step - loss: 0.6571 - accuracy: 0.7714 - val_loss: 2.8607 - val_accuracy: 0.3097\n",
            "Epoch 79/100\n",
            "335/335 [==============================] - 6s 17ms/step - loss: 0.6736 - accuracy: 0.7633 - val_loss: 2.9101 - val_accuracy: 0.3127\n",
            "Epoch 80/100\n",
            "335/335 [==============================] - 5s 16ms/step - loss: 0.6589 - accuracy: 0.7710 - val_loss: 2.8637 - val_accuracy: 0.3066\n",
            "Epoch 81/100\n",
            "335/335 [==============================] - 5s 16ms/step - loss: 0.6444 - accuracy: 0.7785 - val_loss: 3.0071 - val_accuracy: 0.3027\n",
            "Epoch 82/100\n",
            "335/335 [==============================] - 6s 17ms/step - loss: 0.6555 - accuracy: 0.7788 - val_loss: 3.0336 - val_accuracy: 0.3031\n",
            "Epoch 83/100\n",
            "335/335 [==============================] - 5s 16ms/step - loss: 0.6557 - accuracy: 0.7739 - val_loss: 2.8638 - val_accuracy: 0.2988\n",
            "Epoch 84/100\n",
            "335/335 [==============================] - 6s 17ms/step - loss: 0.6312 - accuracy: 0.7854 - val_loss: 2.9296 - val_accuracy: 0.3031\n",
            "Epoch 85/100\n",
            "335/335 [==============================] - 5s 16ms/step - loss: 0.6378 - accuracy: 0.7824 - val_loss: 2.9807 - val_accuracy: 0.3110\n",
            "Epoch 86/100\n",
            "335/335 [==============================] - 5s 16ms/step - loss: 0.6394 - accuracy: 0.7778 - val_loss: 2.9885 - val_accuracy: 0.2953\n",
            "Epoch 87/100\n",
            "335/335 [==============================] - 6s 17ms/step - loss: 0.6282 - accuracy: 0.7836 - val_loss: 3.0474 - val_accuracy: 0.3005\n",
            "Epoch 88/100\n",
            "335/335 [==============================] - 5s 16ms/step - loss: 0.6154 - accuracy: 0.7911 - val_loss: 3.0281 - val_accuracy: 0.3027\n",
            "Epoch 89/100\n",
            "335/335 [==============================] - 6s 17ms/step - loss: 0.6111 - accuracy: 0.7892 - val_loss: 3.0253 - val_accuracy: 0.2979\n",
            "Epoch 90/100\n",
            "335/335 [==============================] - 5s 16ms/step - loss: 0.6095 - accuracy: 0.7931 - val_loss: 3.0177 - val_accuracy: 0.2927\n",
            "Epoch 91/100\n",
            "335/335 [==============================] - 6s 16ms/step - loss: 0.6159 - accuracy: 0.7910 - val_loss: 3.0890 - val_accuracy: 0.2975\n",
            "Epoch 92/100\n",
            "335/335 [==============================] - 6s 17ms/step - loss: 0.6183 - accuracy: 0.7893 - val_loss: 3.0850 - val_accuracy: 0.2988\n",
            "Epoch 93/100\n",
            "335/335 [==============================] - 5s 16ms/step - loss: 0.5923 - accuracy: 0.7944 - val_loss: 3.2407 - val_accuracy: 0.3005\n",
            "Epoch 94/100\n",
            "335/335 [==============================] - 6s 17ms/step - loss: 0.5939 - accuracy: 0.7955 - val_loss: 3.1245 - val_accuracy: 0.3084\n",
            "Epoch 95/100\n",
            "335/335 [==============================] - 5s 16ms/step - loss: 0.5815 - accuracy: 0.8003 - val_loss: 3.0778 - val_accuracy: 0.3018\n",
            "Epoch 96/100\n",
            "335/335 [==============================] - 6s 16ms/step - loss: 0.5775 - accuracy: 0.8040 - val_loss: 3.0442 - val_accuracy: 0.3027\n",
            "Epoch 97/100\n",
            "335/335 [==============================] - 6s 17ms/step - loss: 0.5814 - accuracy: 0.8033 - val_loss: 3.1836 - val_accuracy: 0.3023\n",
            "Epoch 98/100\n",
            "335/335 [==============================] - 5s 16ms/step - loss: 0.5722 - accuracy: 0.8033 - val_loss: 3.1788 - val_accuracy: 0.3010\n",
            "Epoch 99/100\n",
            "335/335 [==============================] - 6s 18ms/step - loss: 0.5843 - accuracy: 0.7965 - val_loss: 3.1384 - val_accuracy: 0.3023\n",
            "Epoch 100/100\n",
            "335/335 [==============================] - 5s 16ms/step - loss: 0.5699 - accuracy: 0.8021 - val_loss: 3.2844 - val_accuracy: 0.3014\n"
          ]
        }
      ],
      "source": [
        "h=model.fit(\n",
        "    padded_train_seq,train_labels,\n",
        "    validation_data=(val_seq, val_labels),\n",
        "    epochs=100\n",
        ")"
      ]
    },
    {
      "cell_type": "code",
      "execution_count": 46,
      "metadata": {
        "colab": {
          "base_uri": "https://localhost:8080/",
          "height": 485
        },
        "id": "FAiB3ywK5iHf",
        "outputId": "121b2a1b-70df-4667-b4c7-341e1890d34f"
      },
      "outputs": [
        {
          "output_type": "display_data",
          "data": {
            "text/plain": [
              "<Figure size 1600x600 with 2 Axes>"
            ],
            "image/png": "[encoded data removed]"
          },
          "metadata": {}
        }
      ],
      "source": [
        "show_history(h)"
      ]
    },
    {
      "cell_type": "code",
      "execution_count": 47,
      "metadata": {
        "colab": {
          "base_uri": "https://localhost:8080/"
        },
        "id": "xAJRVYW25iDG",
        "outputId": "b3b230f3-9558-4a34-d6d5-a666be846ce4"
      },
      "outputs": [
        {
          "output_type": "stream",
          "name": "stdout",
          "text": [
            "72/72 [==============================] - 1s 7ms/step - loss: 3.2296 - accuracy: 0.3056\n"
          ]
        },
        {
          "output_type": "execute_result",
          "data": {
            "text/plain": [
              "[3.2296411991119385, 0.30561602115631104]"
            ]
          },
          "metadata": {},
          "execution_count": 47
        }
      ],
      "source": [
        "model.evaluate(test_seq,test_labels)"
      ]
    },
    {
      "cell_type": "code",
      "execution_count": 48,
      "metadata": {
        "colab": {
          "base_uri": "https://localhost:8080/"
        },
        "id": "F1jb87Qd5iAG",
        "outputId": "43df782d-02f2-4ab8-9362-d7436205ee52"
      },
      "outputs": [
        {
          "output_type": "stream",
          "name": "stdout",
          "text": [
            "72/72 [==============================] - 2s 8ms/step\n"
          ]
        }
      ],
      "source": [
        "preds=model.predict(test_seq)\n",
        "classes_x=np.argmax(preds,axis=1)"
      ]
    },
    {
      "cell_type": "code",
      "execution_count": 49,
      "metadata": {
        "id": "secX0ewz5h9I",
        "colab": {
          "base_uri": "https://localhost:8080/",
          "height": 718
        },
        "outputId": "6dab48ea-ea26-4693-b183-c025e7129e5e"
      },
      "outputs": [
        {
          "output_type": "display_data",
          "data": {
            "text/plain": [
              "<Figure size 1000x800 with 2 Axes>"
            ],
            "image/png": "[encoded data removed]"
          },
          "metadata": {}
        }
      ],
      "source": [
        "show_confusion_matrix(test_labels,classes_x,list(classes))"
      ]
    },
    {
      "cell_type": "code",
      "source": [],
      "metadata": {
        "id": "p0m2s3ClmKQ2"
      },
      "execution_count": null,
      "outputs": []
    },
    {
      "cell_type": "code",
      "source": [
        "from sklearn.metrics import classification_report\n",
        "\n",
        "# get the true labels and predicted labels\n",
        "#true_labels = np.argmax(test_labels, axis=1)\n",
        "#pred_labels = np.argmax(preds, axis=1)\n",
        "\n",
        "# print the classification report\n",
        "print(classification_report(test_labels, classes_x, target_names=classes))\n"
      ],
      "metadata": {
        "colab": {
          "base_uri": "https://localhost:8080/"
        },
        "id": "Fpn-Kg3GlJiI",
        "outputId": "4d71ebb2-be24-4ae2-c2f2-2f8739752538"
      },
      "execution_count": 58,
      "outputs": [
        {
          "output_type": "stream",
          "name": "stdout",
          "text": [
            "              precision    recall  f1-score   support\n",
            "\n",
            "       anger       0.52      0.53      0.52       328\n",
            "   happiness       0.31      0.33      0.32       328\n",
            "        love       0.35      0.32      0.33       328\n",
            "     neutral       0.25      0.26      0.26       328\n",
            "     sadness       0.23      0.23      0.23       328\n",
            "    surprise       0.24      0.24      0.24       328\n",
            "       worry       0.25      0.23      0.24       329\n",
            "\n",
            "    accuracy                           0.31      2297\n",
            "   macro avg       0.31      0.31      0.31      2297\n",
            "weighted avg       0.31      0.31      0.31      2297\n",
            "\n"
          ]
        }
      ]
    },
    {
      "cell_type": "code",
      "execution_count": 59,
      "metadata": {
        "id": "Zw0snn4rAcye",
        "colab": {
          "base_uri": "https://localhost:8080/",
          "height": 472
        },
        "outputId": "259832f7-a9b4-4dae-e026-0f61e1e12977"
      },
      "outputs": [
        {
          "output_type": "display_data",
          "data": {
            "text/plain": [
              "<Figure size 640x480 with 2 Axes>"
            ],
            "image/png": "[encoded data removed]"
          },
          "metadata": {}
        }
      ],
      "source": [
        "from sklearn.metrics import classification_report\n",
        "\n",
        "# get the true labels and predicted labels\n",
        "#true_labels = np.argmax(test_sentiments, axis=1)\n",
        "#pred_labels = np.argmax(y_pred, axis=1)\n",
        "\n",
        "# get the classification report\n",
        "report = classification_report(test_labels, classes_x, target_names=classes, output_dict=True)\n",
        "\n",
        "# plot the classification report\n",
        "sns.heatmap(pd.DataFrame(report).iloc[:-1, :].T, annot=True, cmap='Purples')\n",
        "plt.xlabel('Metrics')\n",
        "plt.ylabel('Emotions')\n",
        "plt.title('Classification Report')\n",
        "plt.show()"
      ]
    },
    {
      "cell_type": "code",
      "execution_count": null,
      "metadata": {
        "id": "Pk20W5YCAcwU"
      },
      "outputs": [],
      "source": []
    },
    {
      "cell_type": "code",
      "execution_count": null,
      "metadata": {
        "id": "Sa-ws9_dAct1"
      },
      "outputs": [],
      "source": []
    },
    {
      "cell_type": "code",
      "execution_count": null,
      "metadata": {
        "id": "KeydfS7fAcrM"
      },
      "outputs": [],
      "source": []
    }
  ],
  "metadata": {
    "colab": {
      "provenance": [],
      "machine_shape": "hm",
      "gpuType": "T4"
    },
    "kernelspec": {
      "display_name": "Python 3",
      "name": "python3"
    },
    "language_info": {
      "name": "python"
    },
    "accelerator": "GPU",
    "gpuClass": "standard"
  },
  "nbformat": 4,
  "nbformat_minor": 0
}